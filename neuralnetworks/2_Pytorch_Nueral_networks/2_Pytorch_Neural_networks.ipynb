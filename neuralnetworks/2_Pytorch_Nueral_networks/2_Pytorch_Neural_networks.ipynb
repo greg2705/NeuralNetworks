{
 "cells": [
  {
   "cell_type": "markdown",
   "metadata": {},
   "source": [
    "# Pytorch for Neural Networks"
   ]
  }
 ],
 "metadata": {
  "language_info": {
   "name": "python"
  }
 },
 "nbformat": 4,
 "nbformat_minor": 2
}
